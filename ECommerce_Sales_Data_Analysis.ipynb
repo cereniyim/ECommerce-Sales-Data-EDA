{
 "cells": [
  {
   "cell_type": "markdown",
   "metadata": {},
   "source": [
    "# E-commerce Sales Data Analysis Case Study\n",
    "\n",
    "**In this notebook the following questions were investigated and answered as part of a \"data analyst\" position interview process of an e-commerce company. This company's focus is on providing high-quality consumer products**\n",
    "\n",
    "**Data, which has provided to me for the case study, is the actual sales data from November 1st, 2018 - April 30th, 2019 and it is anonymized for confidentiality.**\n",
    "\n",
    "1) On what day did we make the most Gross Sales?\n",
    "  - Why would it make sense for this to be our biggest sales day?\n",
    "\n",
    "2) Which product type did we sell the most units of?\n",
    "  - What business decisions could we make knowing this information?\n",
    "\n",
    "3) What does the distribution of waist sizes look like?\n",
    "  - What does this say about our existing customer base?\n",
    "  \n",
    "4) What is our unit return rate?\n",
    "  - Bonus points: what is our unit return rate for customers who ordered multiple sizes?\n",
    "\n",
    "**Some open ended questions to consider:**\n",
    "\n",
    "5) Did you find anything interesting in the way this data is structured?\n",
    "\n",
    "6) What analysis could we run using this data?"
   ]
  },
  {
   "cell_type": "markdown",
   "metadata": {},
   "source": [
    "**Imports**"
   ]
  },
  {
   "cell_type": "code",
   "execution_count": 1,
   "metadata": {},
   "outputs": [],
   "source": [
    "# data wrangling\n",
    "import pandas as pd\n",
    "import numpy as np\n",
    "\n",
    "# visualization\n",
    "import seaborn as sns\n",
    "import matplotlib.pyplot as plt\n",
    "\n",
    "# for interactive graphs\n",
    "from ipywidgets import interact, interact_manual\n",
    "import ipywidgets as widgets\n",
    "\n",
    "%matplotlib inline\n",
    "# to include graphs inline within the frontends next to code\n",
    "\n",
    "%config InlineBackend.figure_format='retina'\n",
    "#to enable retina (high resolution) plots\n",
    "\n",
    "pd.options.mode.chained_assignment = None\n",
    "# to bypass warnings in various dataframe assignments"
   ]
  },
  {
   "cell_type": "code",
   "execution_count": 2,
   "metadata": {
    "scrolled": false
   },
   "outputs": [],
   "source": [
    "# load data into a dataframe\n",
    "orders = pd.read_csv(\"Orders - Analysis Task.csv\")"
   ]
  },
  {
   "cell_type": "code",
   "execution_count": 3,
   "metadata": {
    "scrolled": false
   },
   "outputs": [
    {
     "data": {
      "text/html": [
       "<div>\n",
       "<style scoped>\n",
       "    .dataframe tbody tr th:only-of-type {\n",
       "        vertical-align: middle;\n",
       "    }\n",
       "\n",
       "    .dataframe tbody tr th {\n",
       "        vertical-align: top;\n",
       "    }\n",
       "\n",
       "    .dataframe thead th {\n",
       "        text-align: right;\n",
       "    }\n",
       "</style>\n",
       "<table border=\"1\" class=\"dataframe\">\n",
       "  <thead>\n",
       "    <tr style=\"text-align: right;\">\n",
       "      <th></th>\n",
       "      <th>product_title</th>\n",
       "      <th>product_type</th>\n",
       "      <th>variant_title</th>\n",
       "      <th>variant_sku</th>\n",
       "      <th>variant_id</th>\n",
       "      <th>customer_id</th>\n",
       "      <th>order_id</th>\n",
       "      <th>day</th>\n",
       "      <th>net_quantity</th>\n",
       "      <th>gross_sales</th>\n",
       "      <th>discounts</th>\n",
       "      <th>returns</th>\n",
       "      <th>net_sales</th>\n",
       "      <th>taxes</th>\n",
       "      <th>total_sales</th>\n",
       "      <th>returned_item_quantity</th>\n",
       "      <th>ordered_item_quantity</th>\n",
       "    </tr>\n",
       "  </thead>\n",
       "  <tbody>\n",
       "    <tr>\n",
       "      <td>0</td>\n",
       "      <td>DPR</td>\n",
       "      <td>DPR</td>\n",
       "      <td>100</td>\n",
       "      <td>AD-982-708-895-F-6C894FB</td>\n",
       "      <td>52039657</td>\n",
       "      <td>1312378</td>\n",
       "      <td>83290718932496</td>\n",
       "      <td>04/12/2018</td>\n",
       "      <td>2</td>\n",
       "      <td>200.0</td>\n",
       "      <td>-200.00</td>\n",
       "      <td>0.00</td>\n",
       "      <td>0.0</td>\n",
       "      <td>0.0</td>\n",
       "      <td>0.0</td>\n",
       "      <td>0</td>\n",
       "      <td>2</td>\n",
       "    </tr>\n",
       "    <tr>\n",
       "      <td>1</td>\n",
       "      <td>RJF</td>\n",
       "      <td>Product P</td>\n",
       "      <td>28 / A / MTM</td>\n",
       "      <td>83-490-E49-8C8-8-3B100BC</td>\n",
       "      <td>56914686</td>\n",
       "      <td>3715657</td>\n",
       "      <td>36253792848113</td>\n",
       "      <td>01/04/2019</td>\n",
       "      <td>2</td>\n",
       "      <td>190.0</td>\n",
       "      <td>-190.00</td>\n",
       "      <td>0.00</td>\n",
       "      <td>0.0</td>\n",
       "      <td>0.0</td>\n",
       "      <td>0.0</td>\n",
       "      <td>0</td>\n",
       "      <td>2</td>\n",
       "    </tr>\n",
       "    <tr>\n",
       "      <td>2</td>\n",
       "      <td>CLH</td>\n",
       "      <td>Product B</td>\n",
       "      <td>32 / B / FtO</td>\n",
       "      <td>68-ECA-BC7-3B2-A-E73DE1B</td>\n",
       "      <td>24064862</td>\n",
       "      <td>9533448</td>\n",
       "      <td>73094559597229</td>\n",
       "      <td>05/11/2018</td>\n",
       "      <td>0</td>\n",
       "      <td>164.8</td>\n",
       "      <td>-156.56</td>\n",
       "      <td>-8.24</td>\n",
       "      <td>0.0</td>\n",
       "      <td>0.0</td>\n",
       "      <td>0.0</td>\n",
       "      <td>-2</td>\n",
       "      <td>2</td>\n",
       "    </tr>\n",
       "    <tr>\n",
       "      <td>3</td>\n",
       "      <td>NMA</td>\n",
       "      <td>Product F</td>\n",
       "      <td>40 / B / FtO</td>\n",
       "      <td>6C-1F1-226-1B3-2-3542B41</td>\n",
       "      <td>43823868</td>\n",
       "      <td>4121004</td>\n",
       "      <td>53616575668264</td>\n",
       "      <td>19/02/2019</td>\n",
       "      <td>1</td>\n",
       "      <td>119.0</td>\n",
       "      <td>-119.00</td>\n",
       "      <td>0.00</td>\n",
       "      <td>0.0</td>\n",
       "      <td>0.0</td>\n",
       "      <td>0.0</td>\n",
       "      <td>0</td>\n",
       "      <td>1</td>\n",
       "    </tr>\n",
       "    <tr>\n",
       "      <td>4</td>\n",
       "      <td>NMA</td>\n",
       "      <td>Product F</td>\n",
       "      <td>40 / B / FtO</td>\n",
       "      <td>6C-1F1-226-1B3-2-3542B41</td>\n",
       "      <td>43823868</td>\n",
       "      <td>4121004</td>\n",
       "      <td>29263220319421</td>\n",
       "      <td>19/02/2019</td>\n",
       "      <td>1</td>\n",
       "      <td>119.0</td>\n",
       "      <td>-119.00</td>\n",
       "      <td>0.00</td>\n",
       "      <td>0.0</td>\n",
       "      <td>0.0</td>\n",
       "      <td>0.0</td>\n",
       "      <td>0</td>\n",
       "      <td>1</td>\n",
       "    </tr>\n",
       "  </tbody>\n",
       "</table>\n",
       "</div>"
      ],
      "text/plain": [
       "  product_title product_type variant_title               variant_sku  \\\n",
       "0           DPR          DPR           100  AD-982-708-895-F-6C894FB   \n",
       "1           RJF    Product P  28 / A / MTM  83-490-E49-8C8-8-3B100BC   \n",
       "2           CLH    Product B  32 / B / FtO  68-ECA-BC7-3B2-A-E73DE1B   \n",
       "3           NMA    Product F  40 / B / FtO  6C-1F1-226-1B3-2-3542B41   \n",
       "4           NMA    Product F  40 / B / FtO  6C-1F1-226-1B3-2-3542B41   \n",
       "\n",
       "   variant_id  customer_id        order_id         day  net_quantity  \\\n",
       "0    52039657      1312378  83290718932496  04/12/2018             2   \n",
       "1    56914686      3715657  36253792848113  01/04/2019             2   \n",
       "2    24064862      9533448  73094559597229  05/11/2018             0   \n",
       "3    43823868      4121004  53616575668264  19/02/2019             1   \n",
       "4    43823868      4121004  29263220319421  19/02/2019             1   \n",
       "\n",
       "   gross_sales  discounts  returns  net_sales  taxes  total_sales  \\\n",
       "0        200.0    -200.00     0.00        0.0    0.0          0.0   \n",
       "1        190.0    -190.00     0.00        0.0    0.0          0.0   \n",
       "2        164.8    -156.56    -8.24        0.0    0.0          0.0   \n",
       "3        119.0    -119.00     0.00        0.0    0.0          0.0   \n",
       "4        119.0    -119.00     0.00        0.0    0.0          0.0   \n",
       "\n",
       "   returned_item_quantity  ordered_item_quantity  \n",
       "0                       0                      2  \n",
       "1                       0                      2  \n",
       "2                      -2                      2  \n",
       "3                       0                      1  \n",
       "4                       0                      1  "
      ]
     },
     "execution_count": 3,
     "metadata": {},
     "output_type": "execute_result"
    }
   ],
   "source": [
    "# first rows of the dataset\n",
    "orders.head()"
   ]
  },
  {
   "cell_type": "markdown",
   "metadata": {},
   "source": [
    "<h2> Investigate data"
   ]
  },
  {
   "cell_type": "code",
   "execution_count": 4,
   "metadata": {},
   "outputs": [
    {
     "data": {
      "text/html": [
       "<div>\n",
       "<style scoped>\n",
       "    .dataframe tbody tr th:only-of-type {\n",
       "        vertical-align: middle;\n",
       "    }\n",
       "\n",
       "    .dataframe tbody tr th {\n",
       "        vertical-align: top;\n",
       "    }\n",
       "\n",
       "    .dataframe thead th {\n",
       "        text-align: right;\n",
       "    }\n",
       "</style>\n",
       "<table border=\"1\" class=\"dataframe\">\n",
       "  <thead>\n",
       "    <tr style=\"text-align: right;\">\n",
       "      <th></th>\n",
       "      <th>product_title</th>\n",
       "      <th>product_type</th>\n",
       "      <th>variant_title</th>\n",
       "      <th>variant_sku</th>\n",
       "      <th>variant_id</th>\n",
       "      <th>customer_id</th>\n",
       "      <th>order_id</th>\n",
       "      <th>day</th>\n",
       "      <th>net_quantity</th>\n",
       "      <th>gross_sales</th>\n",
       "      <th>discounts</th>\n",
       "      <th>returns</th>\n",
       "      <th>net_sales</th>\n",
       "      <th>taxes</th>\n",
       "      <th>total_sales</th>\n",
       "      <th>returned_item_quantity</th>\n",
       "      <th>ordered_item_quantity</th>\n",
       "    </tr>\n",
       "  </thead>\n",
       "  <tbody>\n",
       "    <tr>\n",
       "      <td>70047</td>\n",
       "      <td>NSP</td>\n",
       "      <td>Product P</td>\n",
       "      <td>33 / A / FtO</td>\n",
       "      <td>AC-BB8-B86-8DD-4-E487272</td>\n",
       "      <td>22559066</td>\n",
       "      <td>1527995</td>\n",
       "      <td>86214274161928</td>\n",
       "      <td>22/02/2019</td>\n",
       "      <td>-3</td>\n",
       "      <td>0.0</td>\n",
       "      <td>0.0</td>\n",
       "      <td>-213.75</td>\n",
       "      <td>-213.75</td>\n",
       "      <td>-42.75</td>\n",
       "      <td>-256.5</td>\n",
       "      <td>-3</td>\n",
       "      <td>0</td>\n",
       "    </tr>\n",
       "    <tr>\n",
       "      <td>70048</td>\n",
       "      <td>AYN</td>\n",
       "      <td>Product H</td>\n",
       "      <td>33 / B / FtO</td>\n",
       "      <td>B2-6F1-C7D-824-4-5AD849C</td>\n",
       "      <td>57555781</td>\n",
       "      <td>8030551</td>\n",
       "      <td>75341769882681</td>\n",
       "      <td>14/03/2019</td>\n",
       "      <td>-3</td>\n",
       "      <td>0.0</td>\n",
       "      <td>0.0</td>\n",
       "      <td>-222.49</td>\n",
       "      <td>-222.49</td>\n",
       "      <td>-44.51</td>\n",
       "      <td>-267.0</td>\n",
       "      <td>-3</td>\n",
       "      <td>0</td>\n",
       "    </tr>\n",
       "    <tr>\n",
       "      <td>70049</td>\n",
       "      <td>QID</td>\n",
       "      <td>Product H</td>\n",
       "      <td>33 / C / FtO</td>\n",
       "      <td>84-EB3-E68-8BF-1-F2EE65C</td>\n",
       "      <td>29857030</td>\n",
       "      <td>1201357</td>\n",
       "      <td>26287500138156</td>\n",
       "      <td>19/11/2018</td>\n",
       "      <td>-3</td>\n",
       "      <td>0.0</td>\n",
       "      <td>0.0</td>\n",
       "      <td>-222.50</td>\n",
       "      <td>-222.50</td>\n",
       "      <td>-44.50</td>\n",
       "      <td>-267.0</td>\n",
       "      <td>-3</td>\n",
       "      <td>0</td>\n",
       "    </tr>\n",
       "    <tr>\n",
       "      <td>70050</td>\n",
       "      <td>KNB</td>\n",
       "      <td>Product P</td>\n",
       "      <td>40 / B / FtO</td>\n",
       "      <td>DB-5D5-1F5-964-6-F33469E</td>\n",
       "      <td>81507405</td>\n",
       "      <td>9368488</td>\n",
       "      <td>59112081344038</td>\n",
       "      <td>08/04/2019</td>\n",
       "      <td>-3</td>\n",
       "      <td>0.0</td>\n",
       "      <td>0.0</td>\n",
       "      <td>-237.49</td>\n",
       "      <td>-237.49</td>\n",
       "      <td>-47.50</td>\n",
       "      <td>-285.0</td>\n",
       "      <td>-3</td>\n",
       "      <td>0</td>\n",
       "    </tr>\n",
       "    <tr>\n",
       "      <td>70051</td>\n",
       "      <td>WHX</td>\n",
       "      <td>Product P</td>\n",
       "      <td>38 / C / FtO</td>\n",
       "      <td>1C-F31-5C5-A71-9-E27F89C</td>\n",
       "      <td>23625707</td>\n",
       "      <td>7861225</td>\n",
       "      <td>34850379713899</td>\n",
       "      <td>02/01/2019</td>\n",
       "      <td>-3</td>\n",
       "      <td>0.0</td>\n",
       "      <td>0.0</td>\n",
       "      <td>-237.50</td>\n",
       "      <td>-237.50</td>\n",
       "      <td>-47.50</td>\n",
       "      <td>-285.0</td>\n",
       "      <td>-3</td>\n",
       "      <td>0</td>\n",
       "    </tr>\n",
       "  </tbody>\n",
       "</table>\n",
       "</div>"
      ],
      "text/plain": [
       "      product_title product_type variant_title               variant_sku  \\\n",
       "70047           NSP    Product P  33 / A / FtO  AC-BB8-B86-8DD-4-E487272   \n",
       "70048           AYN    Product H  33 / B / FtO  B2-6F1-C7D-824-4-5AD849C   \n",
       "70049           QID    Product H  33 / C / FtO  84-EB3-E68-8BF-1-F2EE65C   \n",
       "70050           KNB    Product P  40 / B / FtO  DB-5D5-1F5-964-6-F33469E   \n",
       "70051           WHX    Product P  38 / C / FtO  1C-F31-5C5-A71-9-E27F89C   \n",
       "\n",
       "       variant_id  customer_id        order_id         day  net_quantity  \\\n",
       "70047    22559066      1527995  86214274161928  22/02/2019            -3   \n",
       "70048    57555781      8030551  75341769882681  14/03/2019            -3   \n",
       "70049    29857030      1201357  26287500138156  19/11/2018            -3   \n",
       "70050    81507405      9368488  59112081344038  08/04/2019            -3   \n",
       "70051    23625707      7861225  34850379713899  02/01/2019            -3   \n",
       "\n",
       "       gross_sales  discounts  returns  net_sales  taxes  total_sales  \\\n",
       "70047          0.0        0.0  -213.75    -213.75 -42.75       -256.5   \n",
       "70048          0.0        0.0  -222.49    -222.49 -44.51       -267.0   \n",
       "70049          0.0        0.0  -222.50    -222.50 -44.50       -267.0   \n",
       "70050          0.0        0.0  -237.49    -237.49 -47.50       -285.0   \n",
       "70051          0.0        0.0  -237.50    -237.50 -47.50       -285.0   \n",
       "\n",
       "       returned_item_quantity  ordered_item_quantity  \n",
       "70047                      -3                      0  \n",
       "70048                      -3                      0  \n",
       "70049                      -3                      0  \n",
       "70050                      -3                      0  \n",
       "70051                      -3                      0  "
      ]
     },
     "execution_count": 4,
     "metadata": {},
     "output_type": "execute_result"
    }
   ],
   "source": [
    "# last rows of the dataset\n",
    "orders.tail()"
   ]
  },
  {
   "cell_type": "code",
   "execution_count": 5,
   "metadata": {},
   "outputs": [
    {
     "name": "stdout",
     "output_type": "stream",
     "text": [
      "<class 'pandas.core.frame.DataFrame'>\n",
      "RangeIndex: 70052 entries, 0 to 70051\n",
      "Data columns (total 17 columns):\n",
      "product_title             70052 non-null object\n",
      "product_type              70052 non-null object\n",
      "variant_title             70052 non-null object\n",
      "variant_sku               70052 non-null object\n",
      "variant_id                70052 non-null int64\n",
      "customer_id               70052 non-null int64\n",
      "order_id                  70052 non-null int64\n",
      "day                       70052 non-null object\n",
      "net_quantity              70052 non-null int64\n",
      "gross_sales               70052 non-null float64\n",
      "discounts                 70052 non-null float64\n",
      "returns                   70052 non-null float64\n",
      "net_sales                 70052 non-null float64\n",
      "taxes                     70052 non-null float64\n",
      "total_sales               70052 non-null float64\n",
      "returned_item_quantity    70052 non-null int64\n",
      "ordered_item_quantity     70052 non-null int64\n",
      "dtypes: float64(6), int64(6), object(5)\n",
      "memory usage: 9.1+ MB\n"
     ]
    }
   ],
   "source": [
    "# first glance of orders data\n",
    "orders.info()"
   ]
  },
  {
   "cell_type": "code",
   "execution_count": 6,
   "metadata": {},
   "outputs": [
    {
     "data": {
      "text/html": [
       "<div>\n",
       "<style scoped>\n",
       "    .dataframe tbody tr th:only-of-type {\n",
       "        vertical-align: middle;\n",
       "    }\n",
       "\n",
       "    .dataframe tbody tr th {\n",
       "        vertical-align: top;\n",
       "    }\n",
       "\n",
       "    .dataframe thead th {\n",
       "        text-align: right;\n",
       "    }\n",
       "</style>\n",
       "<table border=\"1\" class=\"dataframe\">\n",
       "  <thead>\n",
       "    <tr style=\"text-align: right;\">\n",
       "      <th></th>\n",
       "      <th>variant_id</th>\n",
       "      <th>customer_id</th>\n",
       "      <th>order_id</th>\n",
       "      <th>net_quantity</th>\n",
       "      <th>gross_sales</th>\n",
       "      <th>discounts</th>\n",
       "      <th>returns</th>\n",
       "      <th>net_sales</th>\n",
       "      <th>taxes</th>\n",
       "      <th>total_sales</th>\n",
       "      <th>returned_item_quantity</th>\n",
       "      <th>ordered_item_quantity</th>\n",
       "    </tr>\n",
       "  </thead>\n",
       "  <tbody>\n",
       "    <tr>\n",
       "      <td>count</td>\n",
       "      <td>7.005200e+04</td>\n",
       "      <td>7.005200e+04</td>\n",
       "      <td>7.005200e+04</td>\n",
       "      <td>70052.000000</td>\n",
       "      <td>70052.000000</td>\n",
       "      <td>70052.000000</td>\n",
       "      <td>70052.000000</td>\n",
       "      <td>70052.000000</td>\n",
       "      <td>70052.000000</td>\n",
       "      <td>70052.000000</td>\n",
       "      <td>70052.000000</td>\n",
       "      <td>70052.000000</td>\n",
       "    </tr>\n",
       "    <tr>\n",
       "      <td>mean</td>\n",
       "      <td>2.442320e+11</td>\n",
       "      <td>6.013091e+11</td>\n",
       "      <td>5.506075e+13</td>\n",
       "      <td>0.701179</td>\n",
       "      <td>61.776302</td>\n",
       "      <td>-4.949904</td>\n",
       "      <td>-10.246051</td>\n",
       "      <td>46.580348</td>\n",
       "      <td>9.123636</td>\n",
       "      <td>55.703982</td>\n",
       "      <td>-0.156098</td>\n",
       "      <td>0.857277</td>\n",
       "    </tr>\n",
       "    <tr>\n",
       "      <td>std</td>\n",
       "      <td>4.255079e+12</td>\n",
       "      <td>6.223201e+12</td>\n",
       "      <td>2.587640e+13</td>\n",
       "      <td>0.739497</td>\n",
       "      <td>31.800689</td>\n",
       "      <td>7.769972</td>\n",
       "      <td>25.154677</td>\n",
       "      <td>51.802690</td>\n",
       "      <td>10.305236</td>\n",
       "      <td>61.920557</td>\n",
       "      <td>0.369190</td>\n",
       "      <td>0.380820</td>\n",
       "    </tr>\n",
       "    <tr>\n",
       "      <td>min</td>\n",
       "      <td>1.001447e+07</td>\n",
       "      <td>1.000661e+06</td>\n",
       "      <td>1.000657e+13</td>\n",
       "      <td>-3.000000</td>\n",
       "      <td>0.000000</td>\n",
       "      <td>-200.000000</td>\n",
       "      <td>-237.500000</td>\n",
       "      <td>-237.500000</td>\n",
       "      <td>-47.500000</td>\n",
       "      <td>-285.000000</td>\n",
       "      <td>-3.000000</td>\n",
       "      <td>0.000000</td>\n",
       "    </tr>\n",
       "    <tr>\n",
       "      <td>25%</td>\n",
       "      <td>2.692223e+07</td>\n",
       "      <td>3.295695e+06</td>\n",
       "      <td>3.270317e+13</td>\n",
       "      <td>1.000000</td>\n",
       "      <td>51.670000</td>\n",
       "      <td>-8.340000</td>\n",
       "      <td>0.000000</td>\n",
       "      <td>47.080000</td>\n",
       "      <td>8.375000</td>\n",
       "      <td>56.227500</td>\n",
       "      <td>0.000000</td>\n",
       "      <td>1.000000</td>\n",
       "    </tr>\n",
       "    <tr>\n",
       "      <td>50%</td>\n",
       "      <td>4.494514e+07</td>\n",
       "      <td>5.566107e+06</td>\n",
       "      <td>5.522207e+13</td>\n",
       "      <td>1.000000</td>\n",
       "      <td>74.170000</td>\n",
       "      <td>0.000000</td>\n",
       "      <td>0.000000</td>\n",
       "      <td>63.330000</td>\n",
       "      <td>12.660000</td>\n",
       "      <td>76.000000</td>\n",
       "      <td>0.000000</td>\n",
       "      <td>1.000000</td>\n",
       "    </tr>\n",
       "    <tr>\n",
       "      <td>75%</td>\n",
       "      <td>7.743106e+07</td>\n",
       "      <td>7.815352e+06</td>\n",
       "      <td>7.736876e+13</td>\n",
       "      <td>1.000000</td>\n",
       "      <td>79.170000</td>\n",
       "      <td>0.000000</td>\n",
       "      <td>0.000000</td>\n",
       "      <td>74.170000</td>\n",
       "      <td>14.840000</td>\n",
       "      <td>89.000000</td>\n",
       "      <td>0.000000</td>\n",
       "      <td>1.000000</td>\n",
       "    </tr>\n",
       "    <tr>\n",
       "      <td>max</td>\n",
       "      <td>8.422212e+13</td>\n",
       "      <td>9.977409e+13</td>\n",
       "      <td>9.999554e+13</td>\n",
       "      <td>6.000000</td>\n",
       "      <td>445.000000</td>\n",
       "      <td>0.000000</td>\n",
       "      <td>0.000000</td>\n",
       "      <td>445.000000</td>\n",
       "      <td>63.340000</td>\n",
       "      <td>445.000000</td>\n",
       "      <td>0.000000</td>\n",
       "      <td>6.000000</td>\n",
       "    </tr>\n",
       "  </tbody>\n",
       "</table>\n",
       "</div>"
      ],
      "text/plain": [
       "         variant_id   customer_id      order_id  net_quantity   gross_sales  \\\n",
       "count  7.005200e+04  7.005200e+04  7.005200e+04  70052.000000  70052.000000   \n",
       "mean   2.442320e+11  6.013091e+11  5.506075e+13      0.701179     61.776302   \n",
       "std    4.255079e+12  6.223201e+12  2.587640e+13      0.739497     31.800689   \n",
       "min    1.001447e+07  1.000661e+06  1.000657e+13     -3.000000      0.000000   \n",
       "25%    2.692223e+07  3.295695e+06  3.270317e+13      1.000000     51.670000   \n",
       "50%    4.494514e+07  5.566107e+06  5.522207e+13      1.000000     74.170000   \n",
       "75%    7.743106e+07  7.815352e+06  7.736876e+13      1.000000     79.170000   \n",
       "max    8.422212e+13  9.977409e+13  9.999554e+13      6.000000    445.000000   \n",
       "\n",
       "          discounts       returns     net_sales         taxes   total_sales  \\\n",
       "count  70052.000000  70052.000000  70052.000000  70052.000000  70052.000000   \n",
       "mean      -4.949904    -10.246051     46.580348      9.123636     55.703982   \n",
       "std        7.769972     25.154677     51.802690     10.305236     61.920557   \n",
       "min     -200.000000   -237.500000   -237.500000    -47.500000   -285.000000   \n",
       "25%       -8.340000      0.000000     47.080000      8.375000     56.227500   \n",
       "50%        0.000000      0.000000     63.330000     12.660000     76.000000   \n",
       "75%        0.000000      0.000000     74.170000     14.840000     89.000000   \n",
       "max        0.000000      0.000000    445.000000     63.340000    445.000000   \n",
       "\n",
       "       returned_item_quantity  ordered_item_quantity  \n",
       "count            70052.000000           70052.000000  \n",
       "mean                -0.156098               0.857277  \n",
       "std                  0.369190               0.380820  \n",
       "min                 -3.000000               0.000000  \n",
       "25%                  0.000000               1.000000  \n",
       "50%                  0.000000               1.000000  \n",
       "75%                  0.000000               1.000000  \n",
       "max                  0.000000               6.000000  "
      ]
     },
     "execution_count": 6,
     "metadata": {},
     "output_type": "execute_result"
    }
   ],
   "source": [
    "# descriptive statistics of the non-object columns\n",
    "orders.describe()"
   ]
  },
  {
   "cell_type": "markdown",
   "metadata": {},
   "source": [
    "<h2> Visualize dataframe with widgets"
   ]
  },
  {
   "cell_type": "code",
   "execution_count": 7,
   "metadata": {},
   "outputs": [
    {
     "data": {
      "application/vnd.jupyter.widget-view+json": {
       "model_id": "628a966326b94d169db16391c81ee4f3",
       "version_major": 2,
       "version_minor": 0
      },
      "text/plain": [
       "interactive(children=(Dropdown(description='column', options=('gross_sales', 'net_sales', 'total_sales'), valu…"
      ]
     },
     "metadata": {},
     "output_type": "display_data"
    }
   ],
   "source": [
    "# list the rows that the company achieved most any kind of sales for a given limit\n",
    "@interact\n",
    "def show_sales_more_than(column = [\"gross_sales\", \"net_sales\", \"total_sales\"],\n",
    "                               x = widgets.IntSlider(min=0, max=500, step=10)):\n",
    "    return orders.loc[orders[column] > x]"
   ]
  },
  {
   "cell_type": "code",
   "execution_count": 8,
   "metadata": {},
   "outputs": [
    {
     "data": {
      "application/vnd.jupyter.widget-view+json": {
       "model_id": "e3f0d10cf1df4a859ef61844e4752f25",
       "version_major": 2,
       "version_minor": 0
      },
      "text/plain": [
       "interactive(children=(Dropdown(description='x', options=('variant_id', 'customer_id', 'order_id', 'net_quantit…"
      ]
     },
     "metadata": {},
     "output_type": "display_data"
    }
   ],
   "source": [
    "# interactive scatterplot to visualize relationships between the numerical columns of the dataframe\n",
    "@interact\n",
    "def scatter_plot(x=list(orders.select_dtypes([\"int64\", \"float64\"]).columns), \n",
    "                 y=list(orders.select_dtypes([\"int64\", \"float64\"]).columns)[1:]):\n",
    "    plt.figure(figsize=(12,8))\n",
    "    sns.scatterplot(x=x, y=y, data=orders)\n",
    "    plt.ticklabel_format(style='plain', axis='y')\n",
    "    plt.title('%(y_title)s VS %(x_title)s' % {\"y_title\": y, \"x_title\": x})"
   ]
  },
  {
   "cell_type": "markdown",
   "metadata": {},
   "source": [
    "<h2> On what day did we make the most Gross Sales?\n",
    "    Why would it make sense for this to be our biggest sales day?"
   ]
  },
  {
   "cell_type": "code",
   "execution_count": 9,
   "metadata": {},
   "outputs": [
    {
     "name": "stdout",
     "output_type": "stream",
     "text": [
      "            day  gross_sales\n",
      "136  23/11/2018    179394.23\n",
      "154  26/11/2018    135499.95\n",
      "142  24/11/2018     85951.77\n",
      "155  26/12/2018     83141.42\n",
      "6    02/01/2019     81625.21\n"
     ]
    }
   ],
   "source": [
    "# data will be grouped and sorted per each day to see total gross sales\n",
    "orders_by_day = (orders\n",
    "                 .groupby(\"day\")\n",
    "                 .gross_sales.sum()\n",
    "                 .reset_index()\n",
    "                 .sort_values(by=['gross_sales'], ascending=False))\n",
    "\n",
    "print(orders_by_day.head())"
   ]
  },
  {
   "cell_type": "markdown",
   "metadata": {},
   "source": [
    "**Biggest sales happened around:**\n",
    "* 23-26th of November, 2018: Days around black Friday, where people are promoted to do shopping massively with crazy discount rates.\n",
    "* 2nd of January, 2019 and 26th of December, 2018: Christmas Eve and afterwards, holiday season shows its effects even after the New Year's with high sales.\n",
    "<br>\n",
    "<p> It makes sense since these dates corresponds to gift and shopping seasons. </p>\n",
    "<p> Total sales could give an alternative picture for this question, since it is the final amount after discounts, returns and tax. It also reflects how discounts affects purchasing decisions. <p/>"
   ]
  },
  {
   "cell_type": "code",
   "execution_count": 10,
   "metadata": {
    "hide_input": false
   },
   "outputs": [
    {
     "name": "stdout",
     "output_type": "stream",
     "text": [
      "            day  total_sales\n",
      "136  23/11/2018    162191.09\n",
      "154  26/11/2018    117613.61\n",
      "155  26/12/2018     95914.50\n",
      "6    02/01/2019     87628.85\n",
      "142  24/11/2018     82978.85\n"
     ]
    }
   ],
   "source": [
    "# same question is investigated for total_sales\n",
    "print(orders\n",
    "      .groupby(\"day\")\n",
    "      .total_sales.sum()\n",
    "      .reset_index()\n",
    "      .sort_values(by=['total_sales'], ascending=False).head())"
   ]
  },
  {
   "cell_type": "markdown",
   "metadata": {},
   "source": [
    "Sorting did not change much, biggest gross sales and total sales occured in the same days, invalidating my earlier suspicion."
   ]
  },
  {
   "cell_type": "markdown",
   "metadata": {},
   "source": [
    "<h2> Which product type did we sell the most units of? \n",
    "    What business decisions could we make knowing this information?"
   ]
  },
  {
   "cell_type": "markdown",
   "metadata": {},
   "source": [
    "There were significant number of rows whose `ordered_item_quantity` is 0 and `net_quantity` is less than 0, which means they are not ordered/sold at all; but the fact that they have returns requires investigation."
   ]
  },
  {
   "cell_type": "code",
   "execution_count": 11,
   "metadata": {},
   "outputs": [
    {
     "name": "stdout",
     "output_type": "stream",
     "text": [
      "Number of rows that net quantity is negative: 10715\n"
     ]
    }
   ],
   "source": [
    "print(\"Number of rows that net quantity is negative:\", orders[orders.net_quantity < 0].shape[0])"
   ]
  },
  {
   "cell_type": "markdown",
   "metadata": {},
   "source": [
    "**These rows will be excluded from the orders dataset for questions 2, 3, 4, since they distort the analysis.**"
   ]
  },
  {
   "cell_type": "code",
   "execution_count": 12,
   "metadata": {},
   "outputs": [],
   "source": [
    "# exclude not sold/ordered SKUs from the dataset\n",
    "positive_orders = orders[orders[\"ordered_item_quantity\"] > 0]"
   ]
  },
  {
   "cell_type": "code",
   "execution_count": 13,
   "metadata": {},
   "outputs": [
    {
     "data": {
      "image/png": "[encoded data removed]",
      "text/plain": [
       "<Figure size 1080x432 with 1 Axes>"
      ]
     },
     "metadata": {
      "image/png": {
       "height": 466,
       "width": 927
      },
      "needs_background": "light"
     },
     "output_type": "display_data"
    }
   ],
   "source": [
    "# data will be grouped by product type and analysis will be done by net_quantity\n",
    "# since net quantity represents the ordered_quantity - returned_quantity\n",
    "orders_by_product_type = (positive_orders\n",
    "                          .groupby(\"product_type\")\n",
    "                          .net_quantity.sum()\n",
    "                          .reset_index()\n",
    "                          .sort_values(by=['net_quantity'], ascending=False))\n",
    "\n",
    "# prepare plot\n",
    "plt.figure(figsize=(15,6))\n",
    "sns.set(font_scale=1.5, style=\"whitegrid\")\n",
    "\n",
    "# set color\n",
    "labels = np.array(orders_by_product_type.product_type)\n",
    "values = np.array(orders_by_product_type.net_quantity) \n",
    "colors = ['grey' if (x < 7500) # or max(values)\n",
    "          else 'blue' for x in values]\n",
    "\n",
    "# set the plot\n",
    "ax = sns.barplot(x=\"product_type\", \n",
    "                 y=\"net_quantity\", \n",
    "                 data=orders_by_product_type, \n",
    "                 palette = colors)\n",
    "\n",
    "# set title and arrange x,y ticks\n",
    "plt.title(\"Net Units Sold per Product Type\")\n",
    "for item in ax.get_xticklabels():\n",
    "    item.set_rotation(90)"
   ]
  },
  {
   "cell_type": "markdown",
   "metadata": {},
   "source": [
    "Product P and H have outnumbered other categories in net unit sales.\n",
    "\n",
    "* Product P is the minimal and simple design of the retailer with a contemporary look.\n",
    "* Product H is the signature design of the retailer with a classic and smart casual look.\n",
    "\n",
    "**Business Decisions:**\n",
    "* Classic, smart-casual and simple looks appeal more customers.\n",
    "* Collections that are not depending on seasons attract more people.\n",
    "* Frequency of purchase or bulk purchase with multiple colors for Product P and H collections might be higher than the other collections, since it seems they are filling the gap for the must-have's of a men's wardrobe.\n",
    "* Those collections inventory level must be higher than other collections, to prevent probability of stock out.\n",
    "* When company wants to grow more in terms of revenue, launch or targeted marketing of more classic and casual trousers collections might help."
   ]
  },
  {
   "cell_type": "markdown",
   "metadata": {},
   "source": [
    "<h2> What does the distribution of waist sizes look like?\n",
    "    What does this say about our existing customer base?"
   ]
  },
  {
   "cell_type": "code",
   "execution_count": 14,
   "metadata": {},
   "outputs": [],
   "source": [
    "# waist size is applicable for trousers, shorts and denims\n",
    "# create new dataframe for those\n",
    "trousers = positive_orders[(positive_orders.product_type != \"DPR\") \n",
    "                       & (positive_orders.product_type != \"Product R\") \n",
    "                       & (positive_orders.product_type != \"Product N\")]\n",
    "\n",
    "# waist size is embedded in the variant_title as first item: waist_size / other size /  other size\n",
    "# fetch waist_size from the variant_title and convert to integer\n",
    "trousers[\"waist_size\"] = (trousers.variant_title\n",
    "                          .apply(lambda x: x.split()[0]))\n",
    "\n",
    "trousers[\"waist_size\"] = trousers.waist_size.astype('int64')"
   ]
  },
  {
   "cell_type": "code",
   "execution_count": 15,
   "metadata": {},
   "outputs": [
    {
     "data": {
      "image/png": "[encoded data removed]",
      "text/plain": [
       "<Figure size 864x576 with 1 Axes>"
      ]
     },
     "metadata": {
      "image/png": {
       "height": 513,
       "width": 759
      }
     },
     "output_type": "display_data"
    }
   ],
   "source": [
    "# prepare plot\n",
    "f, axes = plt.subplots(figsize=(12,8))\n",
    "\n",
    "# set the histogram, mean and median\n",
    "plt.hist(trousers.waist_size, \n",
    "         range=(trousers.waist_size.min(),trousers.waist_size.max()), \n",
    "         bins=12)\n",
    "\n",
    "plt.axvline(x=trousers.waist_size.mean(), \n",
    "            linewidth=3, \n",
    "            color='g', \n",
    "            label=\"mean\")\n",
    "\n",
    "plt.axvline(x=trousers.waist_size.median(), \n",
    "            linewidth=3, \n",
    "            color='y', \n",
    "            label=\"median\")\n",
    "\n",
    "# set title, legends and labels and xticks\n",
    "axes.set_xticks(range(28,41))\n",
    "plt.xlabel(\"Waist Size\")\n",
    "plt.ylabel(\"Count\")\n",
    "plt.title(\"Distribution of Waist Sizes\")\n",
    "plt.legend([\"mean\", \"median\"])\n",
    "plt.show()"
   ]
  },
  {
   "cell_type": "markdown",
   "metadata": {},
   "source": [
    "* Distribution has a peak at `waist_size` 34.\n",
    "* Distribution of the waist size shows unimodal and symmetric distribution.\n",
    "* Data is centered around the mean and median, 34, as mid-waist-size.\n",
    "* Existing customer base waist size is concentrated between 32-36.\n",
    "* This is a very useful data to plan production quantities of trousers/shorts/jeans in different sizes, production quantities or assortment of sizes can be determined based on this result.\n",
    "* Also, during a new category launch, more mid-waist-size trousers, denims or shorts should be produced."
   ]
  },
  {
   "cell_type": "markdown",
   "metadata": {},
   "source": [
    "<h3> What if we look at distribution of the waist size per collection, what results will it yield?"
   ]
  },
  {
   "cell_type": "code",
   "execution_count": 16,
   "metadata": {
    "scrolled": true
   },
   "outputs": [
    {
     "data": {
      "text/plain": [
       "Text(0.5, 1, 'Boxplot of Waist Size and Product Type')"
      ]
     },
     "execution_count": 16,
     "metadata": {},
     "output_type": "execute_result"
    },
    {
     "data": {
      "image/png": "[encoded data removed]",
      "text/plain": [
       "<Figure size 720x720 with 1 Axes>"
      ]
     },
     "metadata": {
      "image/png": {
       "height": 774,
       "width": 673
      }
     },
     "output_type": "display_data"
    }
   ],
   "source": [
    "# look at distribution of waist_size per product_type\n",
    "g = sns.catplot(x = \"product_type\", \n",
    "                y = \"waist_size\", \n",
    "                data = trousers, \n",
    "                kind = \"box\", \n",
    "                height = 10, \n",
    "                palette = \"Set1\")\n",
    "\n",
    "g.set_xticklabels(rotation = 90)\n",
    "plt.title('Boxplot of Waist Size and Product Type')"
   ]
  },
  {
   "cell_type": "markdown",
   "metadata": {},
   "source": [
    "* As expected, among the collections, waist size is concentrated between 32 and 36."
   ]
  },
  {
   "cell_type": "markdown",
   "metadata": {},
   "source": [
    "<h2> What is our unit return rate?\n",
    "    Bonus points: what is our unit return rate for customers who ordered multiple sizes?"
   ]
  },
  {
   "cell_type": "code",
   "execution_count": 17,
   "metadata": {},
   "outputs": [
    {
     "name": "stdout",
     "output_type": "stream",
     "text": [
      "The unit return rate is : 0.0012\n"
     ]
    }
   ],
   "source": [
    "# to look at unit return rate, ratio of all returned items to the ordered items will be investigated\n",
    "returned_sum = float(-1*(positive_orders[\"returned_item_quantity\"].sum()))\n",
    "\n",
    "ordered_sum = float(positive_orders[\"ordered_item_quantity\"].sum())\n",
    "\n",
    "unit_return_rate = returned_sum / ordered_sum\n",
    "\n",
    "print(\"The unit return rate is : \"'%.4f'%unit_return_rate)"
   ]
  },
  {
   "cell_type": "markdown",
   "metadata": {},
   "source": [
    "Unit return rate is %0.1, it might be benefical to investigate return rate per orders as well, which might give a better clue of return rate."
   ]
  },
  {
   "cell_type": "code",
   "execution_count": 18,
   "metadata": {},
   "outputs": [
    {
     "name": "stdout",
     "output_type": "stream",
     "text": [
      "Average return rate per order is: 0.0014\n"
     ]
    }
   ],
   "source": [
    "# aggregate data per orders, to see ordered item sum and returned sum\n",
    "ordered_sum_by_order = (positive_orders\n",
    "                        .groupby(\"order_id\")\n",
    "                        .ordered_item_quantity.sum()\n",
    "                        .reset_index())\n",
    "\n",
    "returned_sum_by_order = (positive_orders\n",
    "                         .groupby(\"order_id\")\n",
    "                         .returned_item_quantity.sum()\n",
    "                         .reset_index())\n",
    "\n",
    "# merge two dataframes\n",
    "orders_by_order_id = pd.merge(ordered_sum_by_order, \n",
    "                              returned_sum_by_order)\n",
    "\n",
    "orders_by_order_id[\"return_rate\"] = ((-1*orders_by_order_id[\"returned_item_quantity\"]) / \n",
    "                                     orders_by_order_id[\"ordered_item_quantity\"])\n",
    "\n",
    "print(\"Average return rate per order is: \"'%.4f'%orders_by_order_id[\"return_rate\"].mean())"
   ]
  },
  {
   "cell_type": "markdown",
   "metadata": {},
   "source": [
    "Average return rate for orders are %0.1 which is not signifcantly different than the unit return rate."
   ]
  },
  {
   "cell_type": "markdown",
   "metadata": {},
   "source": [
    "<h3> Unit return rate for customers who ordered multiple sizes: </h3>\n",
    "* To answer this question, tshirts and trousers/shorts/jeans will be considered seperately. <br>\n",
    "* Size is considered S, M, L, XL (and so on) for t-shirts and waist size for trousers/jeans/shorts. Rest of the elements in the `variant_title` considered as cuts. <br>\n",
    "* Trousers dataframe that is created for question 3 will be used for this analysis. <br>\n",
    "* Tshirts dataframe will be created. <br>"
   ]
  },
  {
   "cell_type": "markdown",
   "metadata": {},
   "source": [
    "<h4> Create tshirts dataframe and add size column"
   ]
  },
  {
   "cell_type": "code",
   "execution_count": 19,
   "metadata": {},
   "outputs": [],
   "source": [
    "# create tshirts dataframe and fetch size from variant_title\n",
    "tshirts = positive_orders[(positive_orders.product_type == \"Product R\") \n",
    "                          | (positive_orders.product_type == \"Product N\")]\n",
    "\n",
    "tshirts[\"size\"] = (tshirts.variant_title\n",
    "                   .apply(lambda x: x.split(\" \")[0]))"
   ]
  },
  {
   "cell_type": "markdown",
   "metadata": {},
   "source": [
    "<h4> Create functions to identify customers who order multiple sizes"
   ]
  },
  {
   "cell_type": "code",
   "execution_count": 20,
   "metadata": {},
   "outputs": [],
   "source": [
    "def encode_sizes(column):\n",
    "    '''function to encode a size into 1 if bought, 0 if not bought'''\n",
    "    if column > 0:\n",
    "        return 1\n",
    "    if column <= 0:\n",
    "        return 0\n",
    "\n",
    "def aggregate_by_ordered_quantity(dataframe, column_list):\n",
    "    '''this function:\n",
    "    1. aggregates a given dataframe by column list, \n",
    "    as a result creates a aggregated dataframe by counting the ordered item quantities\n",
    "    \n",
    "    2. adds number_of_sizes_ordered column to the aggregated dataframe by encoding ordered sizes into 1\n",
    "    \n",
    "    3. creates final dataframe containing information about \n",
    "    how many sizes are ordered, based on the first element passed in the column list'''\n",
    "    \n",
    "    aggregated_dataframe = (dataframe\n",
    "                            .groupby(column_list)\n",
    "                            .ordered_item_quantity.count()\n",
    "                            .reset_index())\n",
    "    \n",
    "    aggregated_dataframe[\"num_of_sizes_ordered\"] = (aggregated_dataframe\n",
    "                                                    .ordered_item_quantity\n",
    "                                                    .apply(encode_sizes))\n",
    "    \n",
    "    final_dataframe = (aggregated_dataframe\n",
    "                       .groupby(column_list[0])\n",
    "                       .num_of_sizes_ordered.sum()\n",
    "                       .reset_index())\n",
    "    \n",
    "    return final_dataframe"
   ]
  },
  {
   "cell_type": "markdown",
   "metadata": {},
   "source": [
    "<h4> Identify customers who order multiple sizes in trousers or t-shirts category"
   ]
  },
  {
   "cell_type": "code",
   "execution_count": 21,
   "metadata": {},
   "outputs": [
    {
     "name": "stdout",
     "output_type": "stream",
     "text": [
      "for trousers/jeans/denims:\n",
      "   customer_id  num_of_sizes_ordered\n",
      "0      1000661                     1\n",
      "1      1001914                     1\n",
      "2      1002167                     1\n",
      "3      1002387                     1\n",
      "4      1002419                     1\n",
      "for tshirts:\n",
      "   customer_id  num_of_sizes_ordered\n",
      "0      1006436                     1\n",
      "1      1013613                     1\n",
      "2      1016212                     1\n",
      "3      1017090                     1\n",
      "4      1021299                     1\n"
     ]
    }
   ],
   "source": [
    "# apply functions to trousers\n",
    "customers_by_size_orders1 = aggregate_by_ordered_quantity(trousers, [\"customer_id\", \"waist_size\"])\n",
    "print(\"for trousers/jeans/denims:\")\n",
    "print(customers_by_size_orders1.head())\n",
    "\n",
    "# apply functions to tshirts\n",
    "customers_by_size_orders2 = aggregate_by_ordered_quantity(tshirts, [\"customer_id\", \"size\"])\n",
    "print(\"for tshirts:\")\n",
    "print(customers_by_size_orders2.head())\n",
    "\n",
    "# concatenate two dataframes for the customers who ordered multiple sizes and drop duplicates\n",
    "customers_by_size_orders = (pd\n",
    "                            .concat([customers_by_size_orders1[\n",
    "                                customers_by_size_orders1.num_of_sizes_ordered > 1], \n",
    "                                      customers_by_size_orders2[\n",
    "                                          customers_by_size_orders2.num_of_sizes_ordered > 1]\n",
    "                                    ]))\n",
    "\n",
    "customers_by_size_orders.drop_duplicates(subset=[\"customer_id\"], inplace=True)\n",
    "# now we have a dataset that indicates customer_ids who ordered multiple sizes either in tshirts or trousers/shorts/denims"
   ]
  },
  {
   "cell_type": "markdown",
   "metadata": {},
   "source": [
    "<h4> Prepare datasets for unit return rate calculation"
   ]
  },
  {
   "cell_type": "code",
   "execution_count": 22,
   "metadata": {},
   "outputs": [
    {
     "data": {
      "text/html": [
       "<div>\n",
       "<style scoped>\n",
       "    .dataframe tbody tr th:only-of-type {\n",
       "        vertical-align: middle;\n",
       "    }\n",
       "\n",
       "    .dataframe tbody tr th {\n",
       "        vertical-align: top;\n",
       "    }\n",
       "\n",
       "    .dataframe thead th {\n",
       "        text-align: right;\n",
       "    }\n",
       "</style>\n",
       "<table border=\"1\" class=\"dataframe\">\n",
       "  <thead>\n",
       "    <tr style=\"text-align: right;\">\n",
       "      <th></th>\n",
       "      <th>customer_id</th>\n",
       "      <th>num_of_sizes_ordered</th>\n",
       "      <th>ordered_item_quantity</th>\n",
       "      <th>returned_item_quantity</th>\n",
       "    </tr>\n",
       "  </thead>\n",
       "  <tbody>\n",
       "    <tr>\n",
       "      <td>0</td>\n",
       "      <td>1003728</td>\n",
       "      <td>2</td>\n",
       "      <td>2</td>\n",
       "      <td>0</td>\n",
       "    </tr>\n",
       "    <tr>\n",
       "      <td>1</td>\n",
       "      <td>1003899</td>\n",
       "      <td>4</td>\n",
       "      <td>11</td>\n",
       "      <td>0</td>\n",
       "    </tr>\n",
       "    <tr>\n",
       "      <td>2</td>\n",
       "      <td>1006436</td>\n",
       "      <td>3</td>\n",
       "      <td>4</td>\n",
       "      <td>0</td>\n",
       "    </tr>\n",
       "    <tr>\n",
       "      <td>3</td>\n",
       "      <td>1006697</td>\n",
       "      <td>2</td>\n",
       "      <td>2</td>\n",
       "      <td>0</td>\n",
       "    </tr>\n",
       "    <tr>\n",
       "      <td>4</td>\n",
       "      <td>1007931</td>\n",
       "      <td>2</td>\n",
       "      <td>2</td>\n",
       "      <td>0</td>\n",
       "    </tr>\n",
       "  </tbody>\n",
       "</table>\n",
       "</div>"
      ],
      "text/plain": [
       "   customer_id  num_of_sizes_ordered  ordered_item_quantity  \\\n",
       "0      1003728                     2                      2   \n",
       "1      1003899                     4                     11   \n",
       "2      1006436                     3                      4   \n",
       "3      1006697                     2                      2   \n",
       "4      1007931                     2                      2   \n",
       "\n",
       "   returned_item_quantity  \n",
       "0                       0  \n",
       "1                       0  \n",
       "2                       0  \n",
       "3                       0  \n",
       "4                       0  "
      ]
     },
     "execution_count": 22,
     "metadata": {},
     "output_type": "execute_result"
    }
   ],
   "source": [
    "# aggregate data per customer_id, to see ordered item sum and returned sum per customer\n",
    "ordered_sum_by_customer = (positive_orders\n",
    "                           .groupby(\"customer_id\")\n",
    "                           .ordered_item_quantity.sum()\n",
    "                           .reset_index())\n",
    "\n",
    "returned_sum_by_customer = (positive_orders\n",
    "                            .groupby(\"customer_id\")\n",
    "                            .returned_item_quantity.sum()\n",
    "                            .reset_index())\n",
    "\n",
    "# merge two dataframes to be able to calculate unit return rate\n",
    "orders_by_customer_id = pd.merge(ordered_sum_by_customer, returned_sum_by_customer)\n",
    "\n",
    "# inner join orders_by_cust_id and customers_by_size_orders \n",
    "# to calculate the unit return rate customers with multiple size orders\n",
    "customers_with_multiple_orders = pd.merge(customers_by_size_orders,\n",
    "                                          orders_by_customer_id,\n",
    "                                          on=\"customer_id\")\n",
    "\n",
    "customers_with_multiple_orders.head()"
   ]
  },
  {
   "cell_type": "markdown",
   "metadata": {},
   "source": [
    "<h4> Unit return rate calculation for the identified customers"
   ]
  },
  {
   "cell_type": "code",
   "execution_count": 23,
   "metadata": {},
   "outputs": [
    {
     "name": "stdout",
     "output_type": "stream",
     "text": [
      "The unit return rate is : 0.0014\n"
     ]
    }
   ],
   "source": [
    "# to look at unit return rate for the customers ordered multiple sizes, \n",
    "# ratio of all returned items to the ordered items will be investigated\n",
    "returned_sum_multiple = float(-1 * customers_with_multiple_orders.returned_item_quantity.sum())\n",
    "\n",
    "ordered_sum_multiple = float(customers_with_multiple_orders.ordered_item_quantity.sum())\n",
    "\n",
    "unit_return_rate_multiple = returned_sum_multiple / ordered_sum_multiple\n",
    "\n",
    "print(\"The unit return rate is : \"'%.4f'%unit_return_rate_multiple)"
   ]
  },
  {
   "cell_type": "markdown",
   "metadata": {},
   "source": [
    "**Looks like return rate of the company are really low in all of the 3 cases:**\n",
    "* unit return for all customers (0.0012)\n",
    "* average return rate per order (0.0014)\n",
    "* unit return rate for customers who order multiple sizes (0.0014)"
   ]
  },
  {
   "cell_type": "markdown",
   "metadata": {},
   "source": [
    "<h2> Did you find anything interesting in the way this data is structured? </h2>\n",
    "\n",
    "1) One interesting thing is: there were more than 10000 rows whose `ordered_item_quantity` is 0 and `returned_item_quantity` is negative, which I assumed those SKUs are not sold at all, at the beginning of the analysis for questions 2, 3 and 4. \n",
    "\n",
    "2) Those rows might represent erroneous data in the orders data or volume gifts given to specific customers. Dataset needs more investigation on why items that are not ordered have returned.\n",
    "\n",
    "3) Another interesting thing is: In some rows, there is a gross sales value greater than 0, but net sales value is 0, which shows purchase made with a 100% discount. I thought these might be the purchases made without charge by the company employees or with coupons.\n",
    "\n",
    "4) Data was clean and well formatted, it had no NA values.\n",
    "\n",
    "5) There was no unique key in the dataset, since it looks like a joined table of customers and orders."
   ]
  },
  {
   "cell_type": "markdown",
   "metadata": {},
   "source": [
    "<h2> What analysis could we run using this data? </h2>\n",
    "\n",
    "**In addition to questions replied above, some insights can be drawn from the dataset are:**\n",
    "\n",
    "- Does discounts drive the sales of the company (by looking at the number of sales without discount vs number of discounted sales)? \n",
    "\n",
    "- Does price have an affect on buying multiple items in one order?\n",
    "\n",
    "- What is the monthly, quarterly sales volume?\n",
    "\n",
    "- What is the monthly, quarterly return rate?\n",
    "\n",
    "- Are there any specific SKUs or collections that are returned frequently?\n",
    "\n",
    "- Do the customers have a favorite weekday to do shopping?\n",
    "\n",
    "- Are weekend sales more than weekday sales?\n",
    "\n",
    "- Does seasonality affect the sales of particular collections?\n",
    "\n",
    "- Which colors are more popular among customers?\n",
    "\n",
    "- Which builds (A, B, C) are sold most?\n",
    "\n",
    "- Is fixed leg size(28, 29, 30 and so on) or finished to order, make to order leg sizes ordered more?\n",
    "\n",
    "- Who are our most loyal (frequently orders from the company) customers? (by doing customer segmentation)\n",
    "\n",
    "- Can we group our customer base (perform customer segmentation), and take actions for different customer segments ?\n",
    "\n",
    "- Does the company have a price range that sells more (E.g. to determine pricing for a new collection)?\n",
    "\n",
    "- Which gift card is sold more?"
   ]
  }
 ],
 "metadata": {
  "kernelspec": {
   "display_name": "Python 3",
   "language": "python",
   "name": "python3"
  },
  "language_info": {
   "codemirror_mode": {
    "name": "ipython",
    "version": 3
   },
   "file_extension": ".py",
   "mimetype": "text/x-python",
   "name": "python",
   "nbconvert_exporter": "python",
   "pygments_lexer": "ipython3",
   "version": "3.7.6"
  },
  "toc": {
   "base_numbering": 1,
   "nav_menu": {},
   "number_sections": true,
   "sideBar": true,
   "skip_h1_title": false,
   "title_cell": "Table of Contents",
   "title_sidebar": "Contents",
   "toc_cell": false,
   "toc_position": {},
   "toc_section_display": true,
   "toc_window_display": true
  },
  "varInspector": {
   "cols": {
    "lenName": 16,
    "lenType": 16,
    "lenVar": 40
   },
   "kernels_config": {
    "python": {
     "delete_cmd_postfix": "",
     "delete_cmd_prefix": "del ",
     "library": "var_list.py",
     "varRefreshCmd": "print(var_dic_list())"
    },
    "r": {
     "delete_cmd_postfix": ") ",
     "delete_cmd_prefix": "rm(",
     "library": "var_list.r",
     "varRefreshCmd": "cat(var_dic_list()) "
    }
   },
   "oldHeight": 443.844,
   "position": {
    "height": "40px",
    "left": "722px",
    "right": "20px",
    "top": "145px",
    "width": "564px"
   },
   "types_to_exclude": [
    "module",
    "function",
    "builtin_function_or_method",
    "instance",
    "_Feature"
   ],
   "varInspector_section_display": "none",
   "window_display": false
  }
 },
 "nbformat": 4,
 "nbformat_minor": 2
}
